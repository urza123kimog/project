{
 "cells": [
  {
   "cell_type": "code",
   "execution_count": 5,
   "metadata": {
    "collapsed": false
   },
   "outputs": [
    {
     "name": "stdout",
     "output_type": "stream",
     "text": [
      "【裁判字號】100,婚,118\r\n",
      "\n",
      "甲、原告方面：\r\n",
      "\n",
      "一、聲明：准原告與被告離婚、訴訟費用由被告負擔。\r\n",
      "\n",
      "二、原告起訴主張：兩造於民國94年12月15日結婚，婚後因個性\r\n",
      "\n",
      "    不合，被告都要原告聽他的，常常吵架，還會動手打原告，\r\n",
      "\n",
      "    原告已離家一年多，兩造已無法共同生活，爰依民法第1052\r\n",
      "\n",
      "    條第2項訴請離婚等語。\r\n",
      "\n",
      "=============================================================\n"
     ]
    }
   ],
   "source": [
    "import os \n",
    "import re\n",
    "import codecs\n",
    "import _uniout \n",
    "import glob\n",
    "list1 = [u'壹',u'貳',u'參',u'肆']\n",
    "list2 = [u'一',u'二',u'三',u'四']\n",
    "list3 = [u'甲',u'乙',u'丙',u'丁']\n",
    "for filename in glob.glob(u'./judicial/臺灣新竹,100,婚,118.txt'):\n",
    "    with codecs.open( filename ,'r' ,'utf-8') as f :\n",
    "        content = re.sub(u'[\\r\\n]',' ',f.read())\n",
    "        content = re.sub(u'[ ]','',content)\n",
    "        f.seek(0,0) #檔案指標移回檔案開頭\n",
    "        lines = f.readlines()# 不能圖超過 2Mb\n",
    "        print lines[0]\n",
    "        cnt = 0\n",
    "        lv = 0\n",
    "        try:\n",
    "            for i in lines:\n",
    "                if lv != 0:\n",
    "                    break\n",
    "                m = re.search(u'([壹貳參肆一二三四甲乙丙丁]{1,2})、(原告.*?)',i)\n",
    "                if m !=None:\n",
    "                    n = m.group(1)\n",
    "                    if n in list1:\n",
    "                        lv = 1\n",
    "                    if n in list2:\n",
    "                        lv = 2\n",
    "                    if n in list3:\n",
    "                        lv = 3\n",
    "                    for j in lines:\n",
    "                        print lines[cnt]\n",
    "                        cnt += 1\n",
    "                        if lv == 1 and re.match(u'[壹貳參肆]{1,2}、.*?',lines[cnt]) !=None:\n",
    "                            break\n",
    "                        if lv == 2 and re.match(u'[一二三四]{1,2}、.*?',lines[cnt]) !=None:\n",
    "                            break\n",
    "                        if lv == 3 and re.match(u'[甲乙丙丁]{1,2}、.*?',lines[cnt]) !=None:\n",
    "                            break\n",
    "                else:\n",
    "                    cnt += 1\n",
    "        except:\n",
    "            pass\n",
    "        \n",
    "    print '============================================================='"
   ]
  },
  {
   "cell_type": "code",
   "execution_count": null,
   "metadata": {
    "collapsed": true
   },
   "outputs": [],
   "source": []
  }
 ],
 "metadata": {
  "kernelspec": {
   "display_name": "Python 2",
   "language": "python",
   "name": "python2"
  },
  "language_info": {
   "codemirror_mode": {
    "name": "ipython",
    "version": 2
   },
   "file_extension": ".py",
   "mimetype": "text/x-python",
   "name": "python",
   "nbconvert_exporter": "python",
   "pygments_lexer": "ipython2",
   "version": "2.7.10"
  }
 },
 "nbformat": 4,
 "nbformat_minor": 0
}
