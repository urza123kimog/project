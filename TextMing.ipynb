{
 "cells": [
  {
   "cell_type": "code",
   "execution_count": null,
   "metadata": {
    "collapsed": true
   },
   "outputs": [],
   "source": [
    "import os \n",
    "import re\n",
    "import codecs\n",
    "import _uniout \n",
    "import glob\n",
    "for filename in glob.glob(u'./judicial/*.txt'):\n",
    "    with codecs.open( filename ,'r' ,'utf-8') as f :\n",
    "        content = re.sub(u'[\\r\\n]',' ',f.read())\n",
    "        content = re.sub(u'[ ]','',content)\n",
    "        f.seek(0,0) #檔案指標移回檔案開頭\n",
    "        lines = f.readlines()# 不能圖超過 2Mb\n",
    "        print lines[0]\n",
    "        cnt = 0\n",
    "        lv = 0\n",
    "        try:\n",
    "            for i in lines:\n",
    "                m = re.search(u'([壹貳參肆一二三四甲乙丙丁]{1,2})、(原告.*?)',i)\n",
    "                if m !=None:\n",
    "                    n = m.group(1)\n",
    "                    if n in list1:\n",
    "                        lv = 1\n",
    "                    if n in list2:\n",
    "                        lv = 2\n",
    "                    if n in list3:\n",
    "                        lv = 3\n",
    "                    for j in lines:\n",
    "                        print lines[cnt]\n",
    "                        cnt += 1\n",
    "                        if lv == 1 and re.match(u'[壹貳參肆]{1,2}、.*?',lines[cnt]) !=None:\n",
    "                            break\n",
    "                        if lv == 2 and re.match(u'[一二三四]{1,2}、.*?',lines[cnt]) !=None:\n",
    "                            break\n",
    "                        if lv == 3 and re.match(u'[甲乙丙丁]{1,2}、.*?',lines[cnt]) !=None:\n",
    "                            break\n",
    "                else:\n",
    "                    cnt += 1\n",
    "        except:\n",
    "            pass\n",
    "        \n",
    "    print '============================================================='"
   ]
  }
 ],
 "metadata": {
  "kernelspec": {
   "display_name": "Python 2",
   "language": "python",
   "name": "python2"
  },
  "language_info": {
   "codemirror_mode": {
    "name": "ipython",
    "version": 2
   },
   "file_extension": ".py",
   "mimetype": "text/x-python",
   "name": "python",
   "nbconvert_exporter": "python",
   "pygments_lexer": "ipython2",
   "version": "2.7.10"
  }
 },
 "nbformat": 4,
 "nbformat_minor": 0
}
