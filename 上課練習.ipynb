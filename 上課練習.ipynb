{
 "cells": [
  {
   "cell_type": "code",
   "execution_count": 13,
   "metadata": {
    "collapsed": false
   },
   "outputs": [
    {
     "name": "stdout",
     "output_type": "stream",
     "text": [
      "49\n"
     ]
    },
    {
     "ename": "IndexError",
     "evalue": "list index out of range",
     "output_type": "error",
     "traceback": [
      "\u001b[1;31m---------------------------------------------------------------------------\u001b[0m",
      "\u001b[1;31mIndexError\u001b[0m                                Traceback (most recent call last)",
      "\u001b[1;32m<ipython-input-13-32f65ceb9aff>\u001b[0m in \u001b[0;36m<module>\u001b[1;34m()\u001b[0m\n\u001b[0;32m     61\u001b[0m             \u001b[1;32mfor\u001b[0m \u001b[0mnum\u001b[0m \u001b[1;32min\u001b[0m \u001b[0mrange\u001b[0m\u001b[1;33m(\u001b[0m\u001b[1;36m1\u001b[0m\u001b[1;33m,\u001b[0m\u001b[0mint\u001b[0m\u001b[1;33m(\u001b[0m\u001b[0mm\u001b[0m\u001b[1;33m.\u001b[0m\u001b[0mgroup\u001b[0m\u001b[1;33m(\u001b[0m\u001b[1;36m1\u001b[0m\u001b[1;33m)\u001b[0m\u001b[1;33m)\u001b[0m\u001b[1;33m)\u001b[0m\u001b[1;33m:\u001b[0m\u001b[1;33m\u001b[0m\u001b[0m\n\u001b[0;32m     62\u001b[0m                 \u001b[0msoup\u001b[0m \u001b[1;33m=\u001b[0m \u001b[0mBeautifulSoup\u001b[0m\u001b[1;33m(\u001b[0m\u001b[0mdriver\u001b[0m\u001b[1;33m.\u001b[0m\u001b[0mpage_source\u001b[0m\u001b[1;33m)\u001b[0m\u001b[1;33m\u001b[0m\u001b[0m\n\u001b[1;32m---> 63\u001b[1;33m                 \u001b[0mmkfile\u001b[0m\u001b[1;33m(\u001b[0m\u001b[0msoup\u001b[0m\u001b[1;33m,\u001b[0m\u001b[0mi\u001b[0m\u001b[1;33m)\u001b[0m\u001b[1;33m\u001b[0m\u001b[0m\n\u001b[0m\u001b[0;32m     64\u001b[0m                 \u001b[0mdriver\u001b[0m\u001b[1;33m.\u001b[0m\u001b[0mfind_element_by_link_text\u001b[0m\u001b[1;33m(\u001b[0m\u001b[1;34mu\"下一筆\"\u001b[0m\u001b[1;33m)\u001b[0m\u001b[1;33m.\u001b[0m\u001b[0mclick\u001b[0m\u001b[1;33m(\u001b[0m\u001b[1;33m)\u001b[0m\u001b[1;33m\u001b[0m\u001b[0m\n\u001b[0;32m     65\u001b[0m                 \u001b[0mtime\u001b[0m\u001b[1;33m.\u001b[0m\u001b[0msleep\u001b[0m\u001b[1;33m(\u001b[0m\u001b[0ms\u001b[0m\u001b[1;33m)\u001b[0m\u001b[1;33m\u001b[0m\u001b[0m\n",
      "\u001b[1;32m<ipython-input-13-32f65ceb9aff>\u001b[0m in \u001b[0;36mmkfile\u001b[1;34m(soup, i)\u001b[0m\n\u001b[0;32m     11\u001b[0m \u001b[1;33m\u001b[0m\u001b[0m\n\u001b[0;32m     12\u001b[0m \u001b[1;32mdef\u001b[0m \u001b[0mmkfile\u001b[0m\u001b[1;33m(\u001b[0m\u001b[0msoup\u001b[0m\u001b[1;33m,\u001b[0m\u001b[0mi\u001b[0m\u001b[1;33m)\u001b[0m\u001b[1;33m:\u001b[0m\u001b[1;33m\u001b[0m\u001b[0m\n\u001b[1;32m---> 13\u001b[1;33m     \u001b[0mf\u001b[0m \u001b[1;33m=\u001b[0m \u001b[0mopen\u001b[0m\u001b[1;33m(\u001b[0m\u001b[1;34m'judicial/%s,%s.txt'\u001b[0m \u001b[1;33m%\u001b[0m\u001b[1;33m(\u001b[0m\u001b[0mi\u001b[0m\u001b[1;33m.\u001b[0m\u001b[0mdecode\u001b[0m\u001b[1;33m(\u001b[0m\u001b[1;34m'utf-8'\u001b[0m\u001b[1;33m)\u001b[0m \u001b[1;33m,\u001b[0m \u001b[0msoup\u001b[0m\u001b[1;33m.\u001b[0m\u001b[0mfindAll\u001b[0m\u001b[1;33m(\u001b[0m\u001b[1;34m'td'\u001b[0m\u001b[1;33m)\u001b[0m\u001b[1;33m[\u001b[0m\u001b[1;36m6\u001b[0m\u001b[1;33m]\u001b[0m\u001b[1;33m.\u001b[0m\u001b[0mtext\u001b[0m\u001b[1;33m)\u001b[0m\u001b[1;33m,\u001b[0m \u001b[1;34m'w'\u001b[0m\u001b[1;33m)\u001b[0m\u001b[1;33m\u001b[0m\u001b[0m\n\u001b[0m\u001b[0;32m     14\u001b[0m     \u001b[1;32mfor\u001b[0m \u001b[0mi\u001b[0m \u001b[1;32min\u001b[0m \u001b[0mrange\u001b[0m\u001b[1;33m(\u001b[0m\u001b[1;36m5\u001b[0m\u001b[1;33m,\u001b[0m\u001b[1;36m11\u001b[0m\u001b[1;33m)\u001b[0m\u001b[1;33m:\u001b[0m\u001b[1;33m\u001b[0m\u001b[0m\n\u001b[0;32m     15\u001b[0m         \u001b[0mf\u001b[0m\u001b[1;33m.\u001b[0m\u001b[0mwrite\u001b[0m\u001b[1;33m(\u001b[0m\u001b[0msoup\u001b[0m\u001b[1;33m.\u001b[0m\u001b[0mfindAll\u001b[0m\u001b[1;33m(\u001b[0m\u001b[1;34m'td'\u001b[0m\u001b[1;33m)\u001b[0m\u001b[1;33m[\u001b[0m\u001b[0mi\u001b[0m\u001b[1;33m]\u001b[0m\u001b[1;33m.\u001b[0m\u001b[0mtext\u001b[0m\u001b[1;33m.\u001b[0m\u001b[0mencode\u001b[0m\u001b[1;33m(\u001b[0m\u001b[1;34m'utf-8'\u001b[0m\u001b[1;33m)\u001b[0m\u001b[1;33m)\u001b[0m\u001b[1;33m\u001b[0m\u001b[0m\n",
      "\u001b[1;31mIndexError\u001b[0m: list index out of range"
     ]
    }
   ],
   "source": [
    "from selenium import webdriver\n",
    "from selenium.webdriver.common.by import By\n",
    "from selenium.webdriver.common.keys import Keys\n",
    "from selenium.webdriver.support.ui import Select\n",
    "from selenium.common.exceptions import NoSuchElementException\n",
    "from selenium.common.exceptions import NoAlertPresentException\n",
    "import unittest, time, re\n",
    "import requests\n",
    "from bs4 import BeautifulSoup\n",
    "import string\n",
    "import random\n",
    "\n",
    "def mkfile(soup,i):\n",
    "    f = open('judicial/%s,%s.txt' %(i.decode('utf-8') , soup.findAll('td')[6].text), 'w')\n",
    "    for i in range(5,11):\n",
    "        f.write(soup.findAll('td')[i].text.encode('utf-8'))\n",
    "        if i % 2 == 0:\n",
    "            f.write('\\n')\n",
    "    f.write(soup.findAll('td')[13].text.encode('utf-8'))\n",
    "list = ['臺灣新竹']\n",
    "list2 = ['31','30','30','31']\n",
    "s = random.randint(1,10)\n",
    "\n",
    "for i in list:\n",
    "    for j in range(97,105):\n",
    "        month = 1\n",
    "        for k in list2:\n",
    "            driver = webdriver.Firefox()\n",
    "            #chromedriver = \"C:\\chromedriver_win32\\chromedriver.exe\"\n",
    "            #driver = webdriver.Chrome(chromedriver)\n",
    "            driver.implicitly_wait(30)\n",
    "            driver.get(\"http://jirs.judicial.gov.tw//FJUD/FJUDQRY01_1.aspx\")\n",
    "            Select(driver.find_element_by_name(\"v_court\")).select_by_visible_text(\"%s地方法院\" % i)\n",
    "            driver.find_elements_by_name('v_sys')[1].click() \n",
    "            driver.find_element_by_id(\"jt\").clear()\n",
    "            driver.find_element_by_id(\"jt\").send_keys(u\"離婚\")\n",
    "            driver.find_element_by_name(\"dy1\").clear()\n",
    "            driver.find_element_by_name(\"dy1\").send_keys(str(j))\n",
    "            driver.find_element_by_name(\"dm1\").clear()\n",
    "            driver.find_element_by_name(\"dm1\").send_keys(str(month))\n",
    "            driver.find_element_by_name(\"dd1\").clear()\n",
    "            driver.find_element_by_name(\"dd1\").send_keys(\"1\")\n",
    "            driver.find_element_by_name(\"dy2\").clear()\n",
    "            driver.find_element_by_name(\"dy2\").send_keys(str(j))\n",
    "            driver.find_element_by_name(\"dm2\").clear()\n",
    "            driver.find_element_by_name(\"dm2\").send_keys(str(month+2))\n",
    "            driver.find_element_by_name(\"dd2\").clear()\n",
    "            driver.find_element_by_name(\"dd2\").send_keys(k)            \n",
    "            month += 3\n",
    "            driver.find_element_by_name(\"Button\").click()\n",
    "            time.sleep(s)\n",
    "\n",
    "            soup = BeautifulSoup(driver.page_source)\n",
    "            alinks = soup.findAll('td')\n",
    "            a = ''.join(alinks[4].text.split())\n",
    "            m = re.match('.*?(\\d+).*?(\\d+).*?(\\d+).*?', a)\n",
    "            print m.group(1)\n",
    "\n",
    "            driver.find_element_by_xpath(\"//table[@id='Table3']/tbody[1]/tr[2]/td[2]/div[1]/font[1]/a[1]\").click()\n",
    "            time.sleep(s)\n",
    "\n",
    "            for num in range(1,int(m.group(1))):\n",
    "                soup = BeautifulSoup(driver.page_source)\n",
    "                mkfile(soup,i)\n",
    "                driver.find_element_by_link_text(u\"下一筆\").click()\n",
    "                time.sleep(s)\n",
    "            \n",
    "            driver.close()"
   ]
  },
  {
   "cell_type": "code",
   "execution_count": 9,
   "metadata": {
    "collapsed": false
   },
   "outputs": [
    {
     "name": "stdout",
     "output_type": "stream",
     "text": [
      "103\n"
     ]
    }
   ],
   "source": [
    "for j in range(103,104):\n",
    "    print j\n",
    "#driver.find_element_by_xpath(u\"(//a[contains(text(),'下一頁')])[2]\").click()\n",
    "#time.sleep(3)"
   ]
  },
  {
   "cell_type": "code",
   "execution_count": 18,
   "metadata": {
    "collapsed": false
   },
   "outputs": [
    {
     "name": "stdout",
     "output_type": "stream",
     "text": [
      "88\n"
     ]
    }
   ],
   "source": [
    "import random\n",
    "print random.randint(1,99)\n"
   ]
  },
  {
   "cell_type": "code",
   "execution_count": null,
   "metadata": {
    "collapsed": true
   },
   "outputs": [],
   "source": []
  },
  {
   "cell_type": "code",
   "execution_count": null,
   "metadata": {
    "collapsed": true
   },
   "outputs": [],
   "source": []
  }
 ],
 "metadata": {
  "kernelspec": {
   "display_name": "Python 2",
   "language": "python",
   "name": "python2"
  },
  "language_info": {
   "codemirror_mode": {
    "name": "ipython",
    "version": 2
   },
   "file_extension": ".py",
   "mimetype": "text/x-python",
   "name": "python",
   "nbconvert_exporter": "python",
   "pygments_lexer": "ipython2",
   "version": "2.7.10"
  }
 },
 "nbformat": 4,
 "nbformat_minor": 0
}
